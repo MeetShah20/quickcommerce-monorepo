{
  "nbformat": 4,
  "nbformat_minor": 0,
  "metadata": {
    "colab": {
      "provenance": []
    },
    "kernelspec": {
      "name": "python3",
      "display_name": "Python 3"
    },
    "language_info": {
      "name": "python"
    }
  },
  "cells": [
    {
      "cell_type": "code",
      "execution_count": 21,
      "metadata": {
        "id": "zHt_kKMrvc46"
      },
      "outputs": [],
      "source": [
        "import pandas as pd\n",
        "import random\n",
        "import numpy as np\n",
        "from datetime import datetime, timedelta"
      ]
    },
    {
      "cell_type": "code",
      "source": [
        "# Define the product categories and products\n",
        "product_categories = {\n",
        "    'Dairy': ['Milk', 'Cottage Cheese', 'Cheese', 'Curd', 'Butter', 'Yogurt'],\n",
        "    'Household': ['Detergent', 'Dishwasher', 'Cleaning Cloth', 'Mop', 'Broom', 'Toilet Paper'],\n",
        "    'Personal Care': ['Shampoo', 'Conditioner', 'Soap', 'Toothpaste', 'Deodorant', 'Body Lotion'],\n",
        "    'Snacks': ['Chips', 'Cookies', 'Biscuits', 'Candy', 'Popcorn', 'Granola Bars'],\n",
        "    'Beverages': ['Juice', 'Soda', 'Tea', 'Coffee', 'Water', 'Energy Drink'],\n",
        "    'Frozen Foods': ['Ice Cream', 'Frozen Vegetables', 'Frozen Pizza', 'Frozen Meals', 'Frozen Fish']\n",
        "}"
      ],
      "metadata": {
        "id": "aDoqSEQkvnFg"
      },
      "execution_count": 22,
      "outputs": []
    },
    {
      "cell_type": "code",
      "source": [
        "# Date range from 01-01-2022 to 26-09-2024\n",
        "start_date = datetime(2022, 1, 1)\n",
        "end_date = datetime(2024, 9, 26)\n",
        "date_range = pd.date_range(start=start_date, end=end_date, freq='D')"
      ],
      "metadata": {
        "id": "y3_3Kp50vueh"
      },
      "execution_count": 23,
      "outputs": []
    },
    {
      "cell_type": "code",
      "source": [
        "# Define possible store locations and weekdays\n",
        "store_locations = ['Rural', 'Urban', 'Suburban']\n",
        "weekdays = ['Monday', 'Tuesday', 'Wednesday', 'Thursday', 'Friday', 'Saturday', 'Sunday']"
      ],
      "metadata": {
        "id": "lB7KqsYZ2ee4"
      },
      "execution_count": 24,
      "outputs": []
    },
    {
      "cell_type": "code",
      "source": [
        "# Randomize certain features\n",
        "def generate_sales_data(date):\n",
        "    product_category = random.choice(list(product_categories.keys()))\n",
        "    product_name = random.choice(product_categories[product_category])\n",
        "    sales_volume = np.random.randint(200, 1000)\n",
        "\n",
        "    # Sales based on pattern (weekends, promotions, etc.)\n",
        "    weekday = date.strftime('%A')\n",
        "    if weekday in ['Saturday', 'Sunday']:\n",
        "        sales_volume = int(sales_volume * random.uniform(1.1, 1.5))  # Higher sales on weekends\n",
        "\n",
        "    # Promotions affect sales\n",
        "    promotion = random.choice([0, 1])\n",
        "    if promotion == 1:\n",
        "        sales_volume = int(sales_volume * random.uniform(1.3, 2))  # Higher sales during promotions\n",
        "\n",
        "    # Store locations and other details\n",
        "    store_location = random.choice(store_locations)\n",
        "    supplier_cost = round(np.random.uniform(2.5, 20), 2)\n",
        "    replenishment_lead_time = random.randint(1, 10)\n",
        "    stock_level = random.randint(50, 500)\n",
        "\n",
        "    # Randomization based on date for seasonal demand\n",
        "    if product_category == 'Frozen Foods' and date.month in [6, 7, 8]:\n",
        "        sales_volume = int(sales_volume * random.uniform(1.2, 1.6))  # Increased demand in summer\n",
        "\n",
        "    return [date.strftime('%d-%m-%Y'), product_category, product_name, sales_volume, round(np.random.uniform(5, 20), 2),\n",
        "            promotion, store_location, weekday, supplier_cost, replenishment_lead_time, stock_level]\n",
        "\n",
        "# Generate the data for each date\n",
        "data = []\n",
        "for date in date_range:\n",
        "    num_entries = random.randint(2, 4)  # Each day can have 2-4 product categories\n",
        "    for _ in range(num_entries):\n",
        "        data.append(generate_sales_data(date))\n",
        "\n",
        "# Multiply data to ensure the total number of rows exceeds 50,000\n",
        "num_rows_needed = 50000\n",
        "num_repeats = num_rows_needed // len(data) + 1\n",
        "data_extended = data * num_repeats\n",
        "\n",
        "# Trim the excess rows if necessary to ensure exactly 50,000 rows\n",
        "data_final = data_extended[:num_rows_needed]\n",
        "\n",
        "# Convert to DataFrame\n",
        "df = pd.DataFrame(data_final, columns=[\n",
        "    'Date', 'Product_Category', 'Product_Name', 'Sales_Volume', 'Price', 'Promotion', 'Store_Location',\n",
        "    'Weekday', 'Supplier_Cost', 'Replenishment_Lead_Time', 'Stock_Level'\n",
        "])\n",
        "\n",
        "# Ensure the data is sorted by Date in ascending order\n",
        "df['Date'] = pd.to_datetime(df['Date'], format='%d-%m-%Y')\n",
        "df = df.sort_values(by='Date')"
      ],
      "metadata": {
        "id": "xMEZO-Nvvw5I"
      },
      "execution_count": 31,
      "outputs": []
    },
    {
      "cell_type": "code",
      "source": [
        "# Reset index for cleaner data\n",
        "df.reset_index(drop=True, inplace=True)"
      ],
      "metadata": {
        "id": "IsT-9A7w6rmH"
      },
      "execution_count": 32,
      "outputs": []
    },
    {
      "cell_type": "code",
      "source": [
        "# Display the first few rows of the dataset\n",
        "print(df.head())"
      ],
      "metadata": {
        "colab": {
          "base_uri": "https://localhost:8080/"
        },
        "id": "BUYOEBcBv7ss",
        "outputId": "39660c4b-afc6-4d3e-a0bb-d88111a6318a"
      },
      "execution_count": 33,
      "outputs": [
        {
          "output_type": "stream",
          "name": "stdout",
          "text": [
            "        Date Product_Category    Product_Name  Sales_Volume  Price  Promotion  \\\n",
            "0 2022-01-01           Snacks           Candy          1496  18.44          1   \n",
            "1 2022-01-01           Snacks        Biscuits           284   7.88          0   \n",
            "2 2022-01-01            Dairy          Yogurt          1727  14.48          1   \n",
            "3 2022-01-01           Snacks        Biscuits           284   7.88          0   \n",
            "4 2022-01-01            Dairy  Cottage Cheese           513  17.21          1   \n",
            "\n",
            "  Store_Location   Weekday  Supplier_Cost  Replenishment_Lead_Time  \\\n",
            "0          Rural  Saturday           8.12                        8   \n",
            "1          Rural  Saturday          14.51                        6   \n",
            "2          Rural  Saturday           6.14                        5   \n",
            "3          Rural  Saturday          14.51                        6   \n",
            "4       Suburban  Saturday          14.88                        4   \n",
            "\n",
            "   Stock_Level  \n",
            "0          123  \n",
            "1          330  \n",
            "2          222  \n",
            "3          330  \n",
            "4          323  \n"
          ]
        }
      ]
    },
    {
      "cell_type": "code",
      "source": [
        "# Save the dataset as a CSV file (optional)\n",
        "df.to_csv('sales_data_sorted_50000_rows.csv', index=False)"
      ],
      "metadata": {
        "id": "vza7XyO4wAlG"
      },
      "execution_count": 34,
      "outputs": []
    },
    {
      "cell_type": "code",
      "source": [],
      "metadata": {
        "id": "yAVjKXA4xHmQ"
      },
      "execution_count": 27,
      "outputs": []
    },
    {
      "cell_type": "code",
      "source": [],
      "metadata": {
        "id": "KYtVVBQ4_Qbq"
      },
      "execution_count": null,
      "outputs": []
    },
    {
      "cell_type": "code",
      "source": [],
      "metadata": {
        "id": "-bB7rcCR_QlE"
      },
      "execution_count": null,
      "outputs": []
    },
    {
      "cell_type": "code",
      "source": [
        "import numpy as np\n",
        "import pandas as pd\n",
        "from sklearn.preprocessing import MinMaxScaler\n",
        "from sklearn.model_selection import train_test_split\n",
        "from sklearn.metrics import mean_squared_error\n",
        "from tensorflow.keras.models import Sequential\n",
        "from tensorflow.keras.layers import LSTM, Dense\n",
        "import matplotlib.pyplot as plt\n",
        "from tensorflow.keras.callbacks import EarlyStopping"
      ],
      "metadata": {
        "id": "cHJAVQ35_Q4X"
      },
      "execution_count": 45,
      "outputs": []
    },
    {
      "cell_type": "code",
      "source": [
        "# Load your dataset (assuming it's in CSV format)\n",
        "data = pd.read_csv(\"/content/sales_data_sorted_50000_rows.csv\")"
      ],
      "metadata": {
        "id": "As-GgzYv_Rtc"
      },
      "execution_count": 46,
      "outputs": []
    },
    {
      "cell_type": "code",
      "source": [
        "# Handle missing values if any\n",
        "data.fillna(0, inplace=True)"
      ],
      "metadata": {
        "id": "jiAQkB3B_UmE"
      },
      "execution_count": 47,
      "outputs": []
    },
    {
      "cell_type": "code",
      "source": [
        "# Convert 'Date' column to datetime\n",
        "data['Date'] = pd.to_datetime(data['Date'])"
      ],
      "metadata": {
        "id": "5vnvj02r_q1U"
      },
      "execution_count": 48,
      "outputs": []
    },
    {
      "cell_type": "code",
      "source": [
        "# Filter out relevant columns for modeling\n",
        "df = data[['Date', 'Sales_Volume', 'Price', 'Promotion', 'Store_Location', 'Supplier_Cost', 'Replenishment_Lead_Time', 'Stock_Level']]"
      ],
      "metadata": {
        "id": "_olMdp4c_s-_"
      },
      "execution_count": 49,
      "outputs": []
    },
    {
      "cell_type": "code",
      "source": [
        "# Handle one-hot encoding for 'Store_Location' column\n",
        "df = pd.get_dummies(df, columns=['Store_Location'], drop_first=True)"
      ],
      "metadata": {
        "id": "-0kZu1Ae_v23"
      },
      "execution_count": 50,
      "outputs": []
    },
    {
      "cell_type": "code",
      "source": [
        "# Check the column names to confirm what was generated after encoding\n",
        "print(df.columns)"
      ],
      "metadata": {
        "colab": {
          "base_uri": "https://localhost:8080/"
        },
        "id": "QsWZFI4DBJ7D",
        "outputId": "db2b8691-11af-4831-edfc-dd95698bcff6"
      },
      "execution_count": 51,
      "outputs": [
        {
          "output_type": "stream",
          "name": "stdout",
          "text": [
            "Index(['Date', 'Sales_Volume', 'Price', 'Promotion', 'Supplier_Cost',\n",
            "       'Replenishment_Lead_Time', 'Stock_Level', 'Store_Location_Suburban',\n",
            "       'Store_Location_Urban'],\n",
            "      dtype='object')\n"
          ]
        }
      ]
    },
    {
      "cell_type": "code",
      "source": [
        "# Normalize/scale the data using Min-Max scaler for LSTM input\n",
        "scaler = MinMaxScaler(feature_range=(0, 1))\n",
        "scaled_data = scaler.fit_transform(df[['Sales_Volume', 'Price', 'Promotion', 'Supplier_Cost', 'Replenishment_Lead_Time', 'Stock_Level', 'Store_Location_Urban', 'Store_Location_Suburban']])"
      ],
      "metadata": {
        "id": "veIWrzDg_xt8"
      },
      "execution_count": 52,
      "outputs": []
    },
    {
      "cell_type": "code",
      "source": [
        "# Prepare sequences (using a window size of 30 for historical data)\n",
        "def create_sequences(data, window_size=30):\n",
        "    x, y = [], []\n",
        "    for i in range(window_size, len(data)):\n",
        "        x.append(data[i - window_size:i])  # Take previous `window_size` days as input features\n",
        "        y.append(data[i, 0])  # The target is Sales_Volume (index 0 after scaling)\n",
        "    return np.array(x), np.array(y)\n",
        "\n",
        "x, y = create_sequences(scaled_data)"
      ],
      "metadata": {
        "id": "g945dbSp_3b6"
      },
      "execution_count": 53,
      "outputs": []
    },
    {
      "cell_type": "code",
      "source": [
        "# Split into training (70%), validation (20%), and testing (10%) sets\n",
        "x_train, x_temp, y_train, y_temp = train_test_split(x, y, test_size=0.3, shuffle=False)\n",
        "x_val, x_test, y_val, y_test = train_test_split(x_temp, y_temp, test_size=0.33, shuffle=False)  # 0.33 * 0.3 = 0.1 for testing"
      ],
      "metadata": {
        "id": "U13u8r2r_7l0"
      },
      "execution_count": 54,
      "outputs": []
    },
    {
      "cell_type": "code",
      "source": [
        "# Build the LSTM model\n",
        "model = Sequential()"
      ],
      "metadata": {
        "id": "EMhhqiO5_-3s"
      },
      "execution_count": 55,
      "outputs": []
    },
    {
      "cell_type": "code",
      "source": [
        "# Add LSTM layers\n",
        "model.add(LSTM(units=50, return_sequences=True, input_shape=(x_train.shape[1], x_train.shape[2])))\n",
        "model.add(LSTM(units=50, return_sequences=False))"
      ],
      "metadata": {
        "colab": {
          "base_uri": "https://localhost:8080/"
        },
        "id": "f-Knm88gAA7o",
        "outputId": "1b73dff9-6965-4b80-8478-93c320b293c4"
      },
      "execution_count": 56,
      "outputs": [
        {
          "output_type": "stream",
          "name": "stderr",
          "text": [
            "/usr/local/lib/python3.11/dist-packages/keras/src/layers/rnn/rnn.py:200: UserWarning: Do not pass an `input_shape`/`input_dim` argument to a layer. When using Sequential models, prefer using an `Input(shape)` object as the first layer in the model instead.\n",
            "  super().__init__(**kwargs)\n"
          ]
        }
      ]
    },
    {
      "cell_type": "code",
      "source": [
        "# Add Dense layers for prediction\n",
        "model.add(Dense(units=1))  # Output layer with 1 neuron for sales volume prediction"
      ],
      "metadata": {
        "id": "kRmfqWRoAC1p"
      },
      "execution_count": 57,
      "outputs": []
    },
    {
      "cell_type": "code",
      "source": [
        "# Compile the model\n",
        "model.compile(optimizer='adam', loss='mean_squared_error')"
      ],
      "metadata": {
        "id": "f23GtTaIAGOL"
      },
      "execution_count": 58,
      "outputs": []
    },
    {
      "cell_type": "code",
      "source": [
        "# Summarize the model\n",
        "model.summary()"
      ],
      "metadata": {
        "colab": {
          "base_uri": "https://localhost:8080/",
          "height": 225
        },
        "id": "7JX3BZJWAIjL",
        "outputId": "057be5b5-0002-4772-a138-2e331d6b4ec3"
      },
      "execution_count": 59,
      "outputs": [
        {
          "output_type": "display_data",
          "data": {
            "text/plain": [
              "\u001b[1mModel: \"sequential\"\u001b[0m\n"
            ],
            "text/html": [
              "<pre style=\"white-space:pre;overflow-x:auto;line-height:normal;font-family:Menlo,'DejaVu Sans Mono',consolas,'Courier New',monospace\"><span style=\"font-weight: bold\">Model: \"sequential\"</span>\n",
              "</pre>\n"
            ]
          },
          "metadata": {}
        },
        {
          "output_type": "display_data",
          "data": {
            "text/plain": [
              "┏━━━━━━━━━━━━━━━━━━━━━━━━━━━━━━━━━━━━━━┳━━━━━━━━━━━━━━━━━━━━━━━━━━━━━┳━━━━━━━━━━━━━━━━━┓\n",
              "┃\u001b[1m \u001b[0m\u001b[1mLayer (type)                        \u001b[0m\u001b[1m \u001b[0m┃\u001b[1m \u001b[0m\u001b[1mOutput Shape               \u001b[0m\u001b[1m \u001b[0m┃\u001b[1m \u001b[0m\u001b[1m        Param #\u001b[0m\u001b[1m \u001b[0m┃\n",
              "┡━━━━━━━━━━━━━━━━━━━━━━━━━━━━━━━━━━━━━━╇━━━━━━━━━━━━━━━━━━━━━━━━━━━━━╇━━━━━━━━━━━━━━━━━┩\n",
              "│ lstm (\u001b[38;5;33mLSTM\u001b[0m)                          │ (\u001b[38;5;45mNone\u001b[0m, \u001b[38;5;34m30\u001b[0m, \u001b[38;5;34m50\u001b[0m)              │          \u001b[38;5;34m11,800\u001b[0m │\n",
              "├──────────────────────────────────────┼─────────────────────────────┼─────────────────┤\n",
              "│ lstm_1 (\u001b[38;5;33mLSTM\u001b[0m)                        │ (\u001b[38;5;45mNone\u001b[0m, \u001b[38;5;34m50\u001b[0m)                  │          \u001b[38;5;34m20,200\u001b[0m │\n",
              "├──────────────────────────────────────┼─────────────────────────────┼─────────────────┤\n",
              "│ dense (\u001b[38;5;33mDense\u001b[0m)                        │ (\u001b[38;5;45mNone\u001b[0m, \u001b[38;5;34m1\u001b[0m)                   │              \u001b[38;5;34m51\u001b[0m │\n",
              "└──────────────────────────────────────┴─────────────────────────────┴─────────────────┘\n"
            ],
            "text/html": [
              "<pre style=\"white-space:pre;overflow-x:auto;line-height:normal;font-family:Menlo,'DejaVu Sans Mono',consolas,'Courier New',monospace\">┏━━━━━━━━━━━━━━━━━━━━━━━━━━━━━━━━━━━━━━┳━━━━━━━━━━━━━━━━━━━━━━━━━━━━━┳━━━━━━━━━━━━━━━━━┓\n",
              "┃<span style=\"font-weight: bold\"> Layer (type)                         </span>┃<span style=\"font-weight: bold\"> Output Shape                </span>┃<span style=\"font-weight: bold\">         Param # </span>┃\n",
              "┡━━━━━━━━━━━━━━━━━━━━━━━━━━━━━━━━━━━━━━╇━━━━━━━━━━━━━━━━━━━━━━━━━━━━━╇━━━━━━━━━━━━━━━━━┩\n",
              "│ lstm (<span style=\"color: #0087ff; text-decoration-color: #0087ff\">LSTM</span>)                          │ (<span style=\"color: #00d7ff; text-decoration-color: #00d7ff\">None</span>, <span style=\"color: #00af00; text-decoration-color: #00af00\">30</span>, <span style=\"color: #00af00; text-decoration-color: #00af00\">50</span>)              │          <span style=\"color: #00af00; text-decoration-color: #00af00\">11,800</span> │\n",
              "├──────────────────────────────────────┼─────────────────────────────┼─────────────────┤\n",
              "│ lstm_1 (<span style=\"color: #0087ff; text-decoration-color: #0087ff\">LSTM</span>)                        │ (<span style=\"color: #00d7ff; text-decoration-color: #00d7ff\">None</span>, <span style=\"color: #00af00; text-decoration-color: #00af00\">50</span>)                  │          <span style=\"color: #00af00; text-decoration-color: #00af00\">20,200</span> │\n",
              "├──────────────────────────────────────┼─────────────────────────────┼─────────────────┤\n",
              "│ dense (<span style=\"color: #0087ff; text-decoration-color: #0087ff\">Dense</span>)                        │ (<span style=\"color: #00d7ff; text-decoration-color: #00d7ff\">None</span>, <span style=\"color: #00af00; text-decoration-color: #00af00\">1</span>)                   │              <span style=\"color: #00af00; text-decoration-color: #00af00\">51</span> │\n",
              "└──────────────────────────────────────┴─────────────────────────────┴─────────────────┘\n",
              "</pre>\n"
            ]
          },
          "metadata": {}
        },
        {
          "output_type": "display_data",
          "data": {
            "text/plain": [
              "\u001b[1m Total params: \u001b[0m\u001b[38;5;34m32,051\u001b[0m (125.20 KB)\n"
            ],
            "text/html": [
              "<pre style=\"white-space:pre;overflow-x:auto;line-height:normal;font-family:Menlo,'DejaVu Sans Mono',consolas,'Courier New',monospace\"><span style=\"font-weight: bold\"> Total params: </span><span style=\"color: #00af00; text-decoration-color: #00af00\">32,051</span> (125.20 KB)\n",
              "</pre>\n"
            ]
          },
          "metadata": {}
        },
        {
          "output_type": "display_data",
          "data": {
            "text/plain": [
              "\u001b[1m Trainable params: \u001b[0m\u001b[38;5;34m32,051\u001b[0m (125.20 KB)\n"
            ],
            "text/html": [
              "<pre style=\"white-space:pre;overflow-x:auto;line-height:normal;font-family:Menlo,'DejaVu Sans Mono',consolas,'Courier New',monospace\"><span style=\"font-weight: bold\"> Trainable params: </span><span style=\"color: #00af00; text-decoration-color: #00af00\">32,051</span> (125.20 KB)\n",
              "</pre>\n"
            ]
          },
          "metadata": {}
        },
        {
          "output_type": "display_data",
          "data": {
            "text/plain": [
              "\u001b[1m Non-trainable params: \u001b[0m\u001b[38;5;34m0\u001b[0m (0.00 B)\n"
            ],
            "text/html": [
              "<pre style=\"white-space:pre;overflow-x:auto;line-height:normal;font-family:Menlo,'DejaVu Sans Mono',consolas,'Courier New',monospace\"><span style=\"font-weight: bold\"> Non-trainable params: </span><span style=\"color: #00af00; text-decoration-color: #00af00\">0</span> (0.00 B)\n",
              "</pre>\n"
            ]
          },
          "metadata": {}
        }
      ]
    },
    {
      "cell_type": "code",
      "source": [
        "# Early stopping to avoid overfitting\n",
        "early_stopping = EarlyStopping(monitor='val_loss', patience=10, restore_best_weights=True)"
      ],
      "metadata": {
        "id": "h06SIXb9AKX1"
      },
      "execution_count": 60,
      "outputs": []
    },
    {
      "cell_type": "code",
      "source": [
        "# Train the model\n",
        "history = model.fit(x_train, y_train, epochs=50, batch_size=32, validation_data=(x_val, y_val), callbacks=[early_stopping])"
      ],
      "metadata": {
        "colab": {
          "base_uri": "https://localhost:8080/"
        },
        "id": "GlFARM8SAOEr",
        "outputId": "532e02e0-8092-49ec-ed8d-b36c4f08c609"
      },
      "execution_count": 61,
      "outputs": [
        {
          "output_type": "stream",
          "name": "stdout",
          "text": [
            "Epoch 1/50\n",
            "\u001b[1m1094/1094\u001b[0m \u001b[32m━━━━━━━━━━━━━━━━━━━━\u001b[0m\u001b[37m\u001b[0m \u001b[1m39s\u001b[0m 33ms/step - loss: 0.0138 - val_loss: 0.0108\n",
            "Epoch 2/50\n",
            "\u001b[1m1094/1094\u001b[0m \u001b[32m━━━━━━━━━━━━━━━━━━━━\u001b[0m\u001b[37m\u001b[0m \u001b[1m41s\u001b[0m 33ms/step - loss: 0.0117 - val_loss: 0.0098\n",
            "Epoch 3/50\n",
            "\u001b[1m1094/1094\u001b[0m \u001b[32m━━━━━━━━━━━━━━━━━━━━\u001b[0m\u001b[37m\u001b[0m \u001b[1m39s\u001b[0m 31ms/step - loss: 0.0116 - val_loss: 0.0098\n",
            "Epoch 4/50\n",
            "\u001b[1m1094/1094\u001b[0m \u001b[32m━━━━━━━━━━━━━━━━━━━━\u001b[0m\u001b[37m\u001b[0m \u001b[1m41s\u001b[0m 31ms/step - loss: 0.0116 - val_loss: 0.0099\n",
            "Epoch 5/50\n",
            "\u001b[1m1094/1094\u001b[0m \u001b[32m━━━━━━━━━━━━━━━━━━━━\u001b[0m\u001b[37m\u001b[0m \u001b[1m34s\u001b[0m 31ms/step - loss: 0.0115 - val_loss: 0.0098\n",
            "Epoch 6/50\n",
            "\u001b[1m1094/1094\u001b[0m \u001b[32m━━━━━━━━━━━━━━━━━━━━\u001b[0m\u001b[37m\u001b[0m \u001b[1m41s\u001b[0m 30ms/step - loss: 0.0115 - val_loss: 0.0098\n",
            "Epoch 7/50\n",
            "\u001b[1m1094/1094\u001b[0m \u001b[32m━━━━━━━━━━━━━━━━━━━━\u001b[0m\u001b[37m\u001b[0m \u001b[1m41s\u001b[0m 30ms/step - loss: 0.0114 - val_loss: 0.0103\n",
            "Epoch 8/50\n",
            "\u001b[1m1094/1094\u001b[0m \u001b[32m━━━━━━━━━━━━━━━━━━━━\u001b[0m\u001b[37m\u001b[0m \u001b[1m43s\u001b[0m 32ms/step - loss: 0.0115 - val_loss: 0.0100\n",
            "Epoch 9/50\n",
            "\u001b[1m1094/1094\u001b[0m \u001b[32m━━━━━━━━━━━━━━━━━━━━\u001b[0m\u001b[37m\u001b[0m \u001b[1m33s\u001b[0m 30ms/step - loss: 0.0115 - val_loss: 0.0098\n",
            "Epoch 10/50\n",
            "\u001b[1m1094/1094\u001b[0m \u001b[32m━━━━━━━━━━━━━━━━━━━━\u001b[0m\u001b[37m\u001b[0m \u001b[1m43s\u001b[0m 32ms/step - loss: 0.0115 - val_loss: 0.0098\n",
            "Epoch 11/50\n",
            "\u001b[1m1094/1094\u001b[0m \u001b[32m━━━━━━━━━━━━━━━━━━━━\u001b[0m\u001b[37m\u001b[0m \u001b[1m40s\u001b[0m 31ms/step - loss: 0.0112 - val_loss: 0.0101\n",
            "Epoch 12/50\n",
            "\u001b[1m1094/1094\u001b[0m \u001b[32m━━━━━━━━━━━━━━━━━━━━\u001b[0m\u001b[37m\u001b[0m \u001b[1m40s\u001b[0m 31ms/step - loss: 0.0113 - val_loss: 0.0099\n",
            "Epoch 13/50\n",
            "\u001b[1m1094/1094\u001b[0m \u001b[32m━━━━━━━━━━━━━━━━━━━━\u001b[0m\u001b[37m\u001b[0m \u001b[1m40s\u001b[0m 30ms/step - loss: 0.0114 - val_loss: 0.0097\n",
            "Epoch 14/50\n",
            "\u001b[1m1094/1094\u001b[0m \u001b[32m━━━━━━━━━━━━━━━━━━━━\u001b[0m\u001b[37m\u001b[0m \u001b[1m42s\u001b[0m 32ms/step - loss: 0.0111 - val_loss: 0.0098\n",
            "Epoch 15/50\n",
            "\u001b[1m1094/1094\u001b[0m \u001b[32m━━━━━━━━━━━━━━━━━━━━\u001b[0m\u001b[37m\u001b[0m \u001b[1m42s\u001b[0m 33ms/step - loss: 0.0115 - val_loss: 0.0098\n",
            "Epoch 16/50\n",
            "\u001b[1m1094/1094\u001b[0m \u001b[32m━━━━━━━━━━━━━━━━━━━━\u001b[0m\u001b[37m\u001b[0m \u001b[1m34s\u001b[0m 31ms/step - loss: 0.0114 - val_loss: 0.0098\n",
            "Epoch 17/50\n",
            "\u001b[1m1094/1094\u001b[0m \u001b[32m━━━━━━━━━━━━━━━━━━━━\u001b[0m\u001b[37m\u001b[0m \u001b[1m42s\u001b[0m 32ms/step - loss: 0.0112 - val_loss: 0.0098\n",
            "Epoch 18/50\n",
            "\u001b[1m1094/1094\u001b[0m \u001b[32m━━━━━━━━━━━━━━━━━━━━\u001b[0m\u001b[37m\u001b[0m \u001b[1m41s\u001b[0m 31ms/step - loss: 0.0111 - val_loss: 0.0098\n",
            "Epoch 19/50\n",
            "\u001b[1m1094/1094\u001b[0m \u001b[32m━━━━━━━━━━━━━━━━━━━━\u001b[0m\u001b[37m\u001b[0m \u001b[1m40s\u001b[0m 31ms/step - loss: 0.0112 - val_loss: 0.0097\n",
            "Epoch 20/50\n",
            "\u001b[1m1094/1094\u001b[0m \u001b[32m━━━━━━━━━━━━━━━━━━━━\u001b[0m\u001b[37m\u001b[0m \u001b[1m37s\u001b[0m 34ms/step - loss: 0.0109 - val_loss: 0.0098\n",
            "Epoch 21/50\n",
            "\u001b[1m1094/1094\u001b[0m \u001b[32m━━━━━━━━━━━━━━━━━━━━\u001b[0m\u001b[37m\u001b[0m \u001b[1m38s\u001b[0m 31ms/step - loss: 0.0111 - val_loss: 0.0100\n",
            "Epoch 22/50\n",
            "\u001b[1m1094/1094\u001b[0m \u001b[32m━━━━━━━━━━━━━━━━━━━━\u001b[0m\u001b[37m\u001b[0m \u001b[1m44s\u001b[0m 33ms/step - loss: 0.0109 - val_loss: 0.0097\n",
            "Epoch 23/50\n",
            "\u001b[1m1094/1094\u001b[0m \u001b[32m━━━━━━━━━━━━━━━━━━━━\u001b[0m\u001b[37m\u001b[0m \u001b[1m39s\u001b[0m 32ms/step - loss: 0.0110 - val_loss: 0.0098\n",
            "Epoch 24/50\n",
            "\u001b[1m1094/1094\u001b[0m \u001b[32m━━━━━━━━━━━━━━━━━━━━\u001b[0m\u001b[37m\u001b[0m \u001b[1m34s\u001b[0m 31ms/step - loss: 0.0108 - val_loss: 0.0099\n",
            "Epoch 25/50\n",
            "\u001b[1m1094/1094\u001b[0m \u001b[32m━━━━━━━━━━━━━━━━━━━━\u001b[0m\u001b[37m\u001b[0m \u001b[1m42s\u001b[0m 31ms/step - loss: 0.0108 - val_loss: 0.0098\n",
            "Epoch 26/50\n",
            "\u001b[1m1094/1094\u001b[0m \u001b[32m━━━━━━━━━━━━━━━━━━━━\u001b[0m\u001b[37m\u001b[0m \u001b[1m35s\u001b[0m 32ms/step - loss: 0.0108 - val_loss: 0.0100\n",
            "Epoch 27/50\n",
            "\u001b[1m1094/1094\u001b[0m \u001b[32m━━━━━━━━━━━━━━━━━━━━\u001b[0m\u001b[37m\u001b[0m \u001b[1m41s\u001b[0m 32ms/step - loss: 0.0106 - val_loss: 0.0099\n",
            "Epoch 28/50\n",
            "\u001b[1m1094/1094\u001b[0m \u001b[32m━━━━━━━━━━━━━━━━━━━━\u001b[0m\u001b[37m\u001b[0m \u001b[1m41s\u001b[0m 32ms/step - loss: 0.0106 - val_loss: 0.0101\n",
            "Epoch 29/50\n",
            "\u001b[1m1094/1094\u001b[0m \u001b[32m━━━━━━━━━━━━━━━━━━━━\u001b[0m\u001b[37m\u001b[0m \u001b[1m36s\u001b[0m 33ms/step - loss: 0.0106 - val_loss: 0.0097\n",
            "Epoch 30/50\n",
            "\u001b[1m1094/1094\u001b[0m \u001b[32m━━━━━━━━━━━━━━━━━━━━\u001b[0m\u001b[37m\u001b[0m \u001b[1m40s\u001b[0m 32ms/step - loss: 0.0106 - val_loss: 0.0098\n",
            "Epoch 31/50\n",
            "\u001b[1m1094/1094\u001b[0m \u001b[32m━━━━━━━━━━━━━━━━━━━━\u001b[0m\u001b[37m\u001b[0m \u001b[1m44s\u001b[0m 35ms/step - loss: 0.0104 - val_loss: 0.0099\n",
            "Epoch 32/50\n",
            "\u001b[1m1094/1094\u001b[0m \u001b[32m━━━━━━━━━━━━━━━━━━━━\u001b[0m\u001b[37m\u001b[0m \u001b[1m38s\u001b[0m 35ms/step - loss: 0.0103 - val_loss: 0.0101\n",
            "Epoch 33/50\n",
            "\u001b[1m1094/1094\u001b[0m \u001b[32m━━━━━━━━━━━━━━━━━━━━\u001b[0m\u001b[37m\u001b[0m \u001b[1m40s\u001b[0m 34ms/step - loss: 0.0102 - val_loss: 0.0099\n",
            "Epoch 34/50\n",
            "\u001b[1m1094/1094\u001b[0m \u001b[32m━━━━━━━━━━━━━━━━━━━━\u001b[0m\u001b[37m\u001b[0m \u001b[1m35s\u001b[0m 32ms/step - loss: 0.0100 - val_loss: 0.0101\n",
            "Epoch 35/50\n",
            "\u001b[1m1094/1094\u001b[0m \u001b[32m━━━━━━━━━━━━━━━━━━━━\u001b[0m\u001b[37m\u001b[0m \u001b[1m40s\u001b[0m 31ms/step - loss: 0.0101 - val_loss: 0.0102\n",
            "Epoch 36/50\n",
            "\u001b[1m1094/1094\u001b[0m \u001b[32m━━━━━━━━━━━━━━━━━━━━\u001b[0m\u001b[37m\u001b[0m \u001b[1m44s\u001b[0m 33ms/step - loss: 0.0100 - val_loss: 0.0101\n",
            "Epoch 37/50\n",
            "\u001b[1m1094/1094\u001b[0m \u001b[32m━━━━━━━━━━━━━━━━━━━━\u001b[0m\u001b[37m\u001b[0m \u001b[1m40s\u001b[0m 33ms/step - loss: 0.0100 - val_loss: 0.0102\n",
            "Epoch 38/50\n",
            "\u001b[1m1094/1094\u001b[0m \u001b[32m━━━━━━━━━━━━━━━━━━━━\u001b[0m\u001b[37m\u001b[0m \u001b[1m36s\u001b[0m 33ms/step - loss: 0.0099 - val_loss: 0.0101\n",
            "Epoch 39/50\n",
            "\u001b[1m1094/1094\u001b[0m \u001b[32m━━━━━━━━━━━━━━━━━━━━\u001b[0m\u001b[37m\u001b[0m \u001b[1m34s\u001b[0m 31ms/step - loss: 0.0098 - val_loss: 0.0103\n"
          ]
        }
      ]
    },
    {
      "cell_type": "code",
      "source": [
        "# Predict on the test data\n",
        "y_pred = model.predict(x_test)"
      ],
      "metadata": {
        "colab": {
          "base_uri": "https://localhost:8080/"
        },
        "id": "hqnrCBOgAU04",
        "outputId": "3dc7958e-1b51-4c3c-863f-ba0806aced2f"
      },
      "execution_count": 62,
      "outputs": [
        {
          "output_type": "stream",
          "name": "stdout",
          "text": [
            "\u001b[1m155/155\u001b[0m \u001b[32m━━━━━━━━━━━━━━━━━━━━\u001b[0m\u001b[37m\u001b[0m \u001b[1m3s\u001b[0m 15ms/step\n"
          ]
        }
      ]
    },
    {
      "cell_type": "code",
      "source": [
        "# Inverse scale the predictions and actual values back to original range\n",
        "y_test_actual = scaler.inverse_transform(np.hstack((y_test.reshape(-1, 1), np.zeros((len(y_test), x_test.shape[2] - 1)))))[:, 0]\n",
        "y_pred_actual = scaler.inverse_transform(np.hstack((y_pred, np.zeros((len(y_pred), x_test.shape[2] - 1)))))[:, 0]"
      ],
      "metadata": {
        "id": "U-b515c0AXZ9"
      },
      "execution_count": 63,
      "outputs": []
    },
    {
      "cell_type": "code",
      "source": [
        "# Calculate performance metrics\n",
        "mse = mean_squared_error(y_test_actual, y_pred_actual)\n",
        "rmse = np.sqrt(mse)\n",
        "print(f'Mean Squared Error (MSE): {mse}')\n",
        "print(f'Root Mean Squared Error (RMSE): {rmse}')"
      ],
      "metadata": {
        "colab": {
          "base_uri": "https://localhost:8080/"
        },
        "id": "c2P6dAFNAZr1",
        "outputId": "0af11db5-0c6f-4571-ef9e-2b7d935931eb"
      },
      "execution_count": 64,
      "outputs": [
        {
          "output_type": "stream",
          "name": "stdout",
          "text": [
            "Mean Squared Error (MSE): 151695.57171948702\n",
            "Root Mean Squared Error (RMSE): 389.4811570788592\n"
          ]
        }
      ]
    },
    {
      "cell_type": "code",
      "source": [
        "# Plot the actual vs predicted values for sales volume\n",
        "plt.figure(figsize=(10,6))\n",
        "plt.plot(y_test_actual, color='blue', label='Actual Sales Volume')\n",
        "plt.plot(y_pred_actual, color='red', label='Predicted Sales Volume')\n",
        "plt.title('Actual vs Predicted Sales Volume')\n",
        "plt.xlabel('Time')\n",
        "plt.ylabel('Sales Volume')\n",
        "plt.legend()\n",
        "plt.show()"
      ],
      "metadata": {
        "colab": {
          "base_uri": "https://localhost:8080/",
          "height": 564
        },
        "id": "lO1eOBQuAcyP",
        "outputId": "acc8096a-8935-4d40-abd6-d28030b435ae"
      },
      "execution_count": 65,
      "outputs": [
        {
          "output_type": "display_data",
          "data": {
            "text/plain": [
              "<Figure size 1000x600 with 1 Axes>"
            ],
            "image/png": "[encoded data removed]"
          },
          "metadata": {}
        }
      ]
    },
    {
      "cell_type": "code",
      "source": [],
      "metadata": {
        "id": "FA9PP7P3Ias2"
      },
      "execution_count": null,
      "outputs": []
    }
  ]
}